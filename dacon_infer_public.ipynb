{
 "cells": [
  {
   "cell_type": "code",
   "execution_count": 1,
   "metadata": {},
   "outputs": [],
   "source": [
    "%load_ext autoreload\n",
    "%autoreload 2"
   ]
  },
  {
   "cell_type": "code",
   "execution_count": 2,
   "metadata": {},
   "outputs": [],
   "source": [
    "import numpy as np\n",
    "import pandas as pd\n",
    "import torch\n",
    "import pandas as pd\n",
    "import torch.nn as nn\n",
    "import pickle\n",
    "from tool.my_dataset import get_dataset_dataloader\n",
    "from tool.dacon_eval import evaluate_scores, calculate_score\n",
    "from tool.my_model import HawonNet\n",
    "np.set_printoptions(precision=6, suppress=True)"
   ]
  },
  {
   "cell_type": "markdown",
   "metadata": {},
   "source": []
  },
  {
   "cell_type": "code",
   "execution_count": 11,
   "metadata": {},
   "outputs": [],
   "source": [
    "class args:\n",
    "    def __init__(self):\n",
    "        self.n_gnn = 3\n",
    "        self.dim_gnn = 128\n",
    "        self.ngpu = 1\n",
    "        self.test_data_dir = '/home/tech/Hawon/Dacon/data/toygnn_data/train_test_dump'\n",
    "        self.num_workers = 2\n",
    "        self.num_epochs = 3001\n",
    "        self.dropout_rate = 0.1\n",
    "        self.interaction_net = True\n",
    "        self.dev_vdw_radius = 0.2\n",
    "        self.lr = 1e-3\n",
    "        self.distance_bins=15\n",
    "        self.residue_node=False\n",
    "        self.gnn_layer_type = 'AttentiveFP' # GCN or AttentiveFP\n",
    "        self.int_projection_dim = 32\n",
    "hawon_args = args()"
   ]
  },
  {
   "cell_type": "code",
   "execution_count": 12,
   "metadata": {},
   "outputs": [],
   "source": [
    "with open('/home/tech/Hawon/Dacon/data/toygnn_data/id_to_y.pkl', 'rb') as fp:\n",
    "    id_to_y = pickle.load(fp)\n",
    "with open('/home/tech/Hawon/Dacon/data/toygnn_data/public_test_keys.pkl', 'rb') as fp:\n",
    "    public_test_keys = pickle.load(fp)\n",
    "with open('/home/tech/Hawon/Dacon/data/toygnn_data/private_test_keys.pkl', 'rb') as fp:\n",
    "    private_test_keys = pickle.load(fp)"
   ]
  },
  {
   "cell_type": "code",
   "execution_count": 13,
   "metadata": {},
   "outputs": [],
   "source": [
    "def pIC50_to_IC50(pIC50): # IC50 -> nM 단위\n",
    "    return 10**(-pIC50+9)\n",
    "\n",
    "def public_test_eval(public_test_keys, data_dir, id_to_y, ckpt_path, mode):\n",
    "    test_dataset, test_dataloader = get_dataset_dataloader(keys=public_test_keys,\n",
    "                                                            data_dir=data_dir,\n",
    "                                                            id_to_y=id_to_y,\n",
    "                                                            batch_size=1,\n",
    "                                                            num_workers=1,\n",
    "                                                            residue_node=hawon_args.residue_node,\n",
    "                                                            train=False,\n",
    "                                                            inference=True)\n",
    "    model = HawonNet(hawon_args)\n",
    "    checkpoint = torch.load(ckpt_path)\n",
    "    model.load_state_dict(checkpoint)\n",
    "    \n",
    "    submit_id = []\n",
    "    submit_pIC = []\n",
    "    answer_pIC = []\n",
    "\n",
    "    model.eval()\n",
    "    with torch.no_grad():\n",
    "        for sample in test_dataloader:\n",
    "            submit_id.append(sample['key'][0])\n",
    "            submit_pIC.append(model(sample).item())\n",
    "            answer_pIC.append(id_to_y[sample['key'][0]])\n",
    "            \n",
    "    submit_IC = pIC50_to_IC50(np.array(submit_pIC))\n",
    "    answer_IC = pIC50_to_IC50(np.array(answer_pIC))\n",
    "    if mode not in ['score', 'pred']:\n",
    "        raise Exception('score 또는 pred를 인자로 넣거라')\n",
    "    if mode == 'score':\n",
    "        return calculate_score(answer_IC, submit_IC)\n",
    "    else:\n",
    "        return submit_IC\n",
    "    \n",
    "def private_test_eval(private_test_keys, data_dir, id_to_y, ckpt_path, load_path, save_path):\n",
    "    test_dataset, test_dataloader = get_dataset_dataloader(keys=private_test_keys,\n",
    "                                                            data_dir=data_dir,\n",
    "                                                            id_to_y=id_to_y,\n",
    "                                                            batch_size=1,\n",
    "                                                            num_workers=1,\n",
    "                                                            residue_node=hawon_args.residue_node,\n",
    "                                                            train=False,\n",
    "                                                            inference=True)\n",
    "    model = HawonNet(hawon_args)\n",
    "    checkpoint = torch.load(ckpt_path)\n",
    "    model.load_state_dict(checkpoint)\n",
    "\n",
    "    submit_id = []\n",
    "    submit_pIC = []\n",
    "\n",
    "    model.eval()\n",
    "    with torch.no_grad():\n",
    "        for sample in test_dataloader:\n",
    "            submit_id.append(sample['key'][0][1:])\n",
    "            submit_pIC.append(model(sample).item())\n",
    "            \n",
    "    submit_IC = pIC50_to_IC50(np.array(submit_pIC))\n",
    "    \n",
    "    submit = pd.read_csv(load_path)\n",
    "    submit['IC50_nM'] = submit_IC\n",
    "    submit.to_csv(save_path, index=False)\n",
    "    print(f'result saved at {save_path}')"
   ]
  },
  {
   "cell_type": "code",
   "execution_count": 32,
   "metadata": {},
   "outputs": [
    {
     "data": {
      "text/plain": [
       "0.6360710860771839"
      ]
     },
     "execution_count": 32,
     "metadata": {},
     "output_type": "execute_result"
    }
   ],
   "source": [
    "public_test_eval(public_test_keys = public_test_keys,\n",
    "                 data_dir = hawon_args.test_data_dir,\n",
    "                 id_to_y = id_to_y,\n",
    "                 ckpt_path = '/home/tech/Hawon/Dacon/code/MAIN/trial5_attentiveFP_ToyGNN/ToyGNN/ckpt/best_model.pth',\n",
    "                 mode = 'score') # mode : score / pred"
   ]
  },
  {
   "cell_type": "code",
   "execution_count": 33,
   "metadata": {},
   "outputs": [
    {
     "name": "stdout",
     "output_type": "stream",
     "text": [
      "result saved at ./asagsgashha.csv\n"
     ]
    }
   ],
   "source": [
    "private_test_eval(private_test_keys = private_test_keys,\n",
    "                  data_dir = hawon_args.test_data_dir,\n",
    "                  id_to_y = id_to_y,\n",
    "                  ckpt_path = '/home/tech/Hawon/Dacon/code/MAIN/trial5_attentiveFP_ToyGNN/ToyGNN/ckpt/best_model.pth',\n",
    "                  load_path = '/home/tech/Hawon/Dacon/data/raw/sample_submission.csv',\n",
    "                  save_path = f'./{input(\"원하는 파일명을 입력하세요\")}.csv') "
   ]
  }
 ],
 "metadata": {
  "kernelspec": {
   "display_name": "docking_tools",
   "language": "python",
   "name": "python3"
  },
  "language_info": {
   "codemirror_mode": {
    "name": "ipython",
    "version": 3
   },
   "file_extension": ".py",
   "mimetype": "text/x-python",
   "name": "python",
   "nbconvert_exporter": "python",
   "pygments_lexer": "ipython3",
   "version": "3.9.19"
  }
 },
 "nbformat": 4,
 "nbformat_minor": 2
}
