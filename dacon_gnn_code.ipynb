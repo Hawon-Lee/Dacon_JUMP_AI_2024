{
 "cells": [
  {
   "cell_type": "code",
   "execution_count": 3,
   "metadata": {},
   "outputs": [
    {
     "name": "stdout",
     "output_type": "stream",
     "text": [
      "The autoreload extension is already loaded. To reload it, use:\n",
      "  %reload_ext autoreload\n"
     ]
    }
   ],
   "source": [
    "%load_ext autoreload\n",
    "%autoreload 2"
   ]
  },
  {
   "cell_type": "code",
   "execution_count": 2,
   "metadata": {},
   "outputs": [],
   "source": [
    "import os\n",
    "import shutil\n",
    "import random\n",
    "import numpy as np\n",
    "import pandas as pd\n",
    "import torch\n",
    "import matplotlib.pyplot as plt\n",
    "import torch.nn as nn\n",
    "import pickle\n",
    "from tool.my_dataset import get_dataset_dataloader\n",
    "from tool.dacon_eval import evaluate_scores\n",
    "from tool.my_model import HawonNet\n",
    "from tool.etc import pearson_correlation, pIC50_to_IC50\n",
    "from tqdm import tqdm\n",
    "from torch.optim.lr_scheduler import ReduceLROnPlateau"
   ]
  },
  {
   "cell_type": "code",
   "execution_count": 4,
   "metadata": {},
   "outputs": [],
   "source": [
    "# train/test/id_to_y 생성\n",
    "use_inequality = False # 부등호 데이터 쓸지\n",
    "\n",
    "if use_inequality:\n",
    "    tr_key_dir = '/home/tech/Hawon/Dacon/data/toygnn_data/inequality_included_keys/public_train_keys.pkl'\n",
    "    vl_key_dir = '/home/tech/Hawon/Dacon/data/toygnn_data/inequality_included_keys/public_val_keys.pkl'\n",
    "else:\n",
    "    tr_key_dir = '/home/tech/Hawon/Dacon/data/toygnn_data/equality_only_keys/public_train_keys.pkl'\n",
    "    vl_key_dir = '/home/tech/Hawon/Dacon/data/toygnn_data/equality_only_keys/public_val_keys.pkl'\n",
    "    \n",
    "with open(tr_key_dir, 'rb') as fp:\n",
    "    tr_keys = pickle.load(fp)\n",
    "with open(vl_key_dir, 'rb') as fp:\n",
    "    val_keys = pickle.load(fp)\n",
    "with open('/home/tech/Hawon/Dacon/data/toygnn_data/id_to_y.pkl', 'rb') as fp:\n",
    "    id_to_y = pickle.load(fp)"
   ]
  },
  {
   "cell_type": "code",
   "execution_count": 6,
   "metadata": {},
   "outputs": [],
   "source": [
    "# 인자 정의\n",
    "class args:\n",
    "    def __init__(self):\n",
    "        self.batch_size = 32\n",
    "        self.gnn_n_layer = 3\n",
    "        self.gnn_hidden_dim = 128\n",
    "        self.ngpu = 1\n",
    "        self.total_data_dir = '/home/tech/Hawon/Dacon/data/toygnn_data/train/Dump'\n",
    "        self.test_data_dir = '/home/hawon/Develop/Dacon/data/toygnn_data/train_test_dump'\n",
    "        self.filename = \"./data/pdbbind_v2019/scoring/pdb_to_affinity.txt\"\n",
    "        self.key_dir = \"./data/pdbbind_v2019/scoring/keys\"\n",
    "        self.num_workers = 12\n",
    "        self.num_epochs = 1000\n",
    "        self.dropout_rate = 0.1\n",
    "        self.lr = 0.0005\n",
    "        self.save_model = True\n",
    "        self.distance_bins = 15\n",
    "        self.use_residue_node = False # False -> protein pocket의 atom만을 노드로 사용 (True면 whole amino acid를 노드로 사용)\n",
    "        self.gnn_layer_type = 'AttentiveFP' # GCN or AttentiveFP\n",
    "        self.int_projection_dim = 32 # 15차원의 interaction edge를 몇차원으로 projection하여 ligand_h, target_h 와 concat할지를 결정\n",
    "hawon_args = args()"
   ]
  },
  {
   "cell_type": "markdown",
   "metadata": {},
   "source": [
    "### 학습"
   ]
  },
  {
   "cell_type": "code",
   "execution_count": 7,
   "metadata": {},
   "outputs": [
    {
     "name": "stdout",
     "output_type": "stream",
     "text": [
      "Data load done: train 8493, val 447\n",
      "OPTIONS\n",
      "- epoch: 1000\n",
      "- batch_size: 32\n",
      "- num_workers: 12\n",
      "- lr: 0.0005\n",
      "- gnn_type : AttentiveFP\n",
      "- gnn_n_layer: 3\n",
      "- gnn_h_dim : 128\n",
      "- residue_node : False\n",
      "=================================\n",
      "\n"
     ]
    },
    {
     "name": "stderr",
     "output_type": "stream",
     "text": [
      "100%|██████████| 266/266 [01:14<00:00,  3.55it/s]\n",
      "100%|██████████| 14/14 [00:04<00:00,  3.05it/s]\n"
     ]
    },
    {
     "name": "stdout",
     "output_type": "stream",
     "text": [
      "epoch:1 | train_mse(pic50):1.38 | val_mse(pic50):1.04 | train_dacon(ic50): 0.65 | val_dacon(ic50): 0.64 | train_pearson:0.28 | val_pearson:0.45\n",
      "New best model saved based on val_dacon -> epoch: 1, val_mse: 1.04, val_dacon: 0.64\n",
      "-----------------------------------------------------------------\n"
     ]
    },
    {
     "name": "stderr",
     "output_type": "stream",
     "text": [
      "100%|██████████| 266/266 [01:11<00:00,  3.70it/s]\n",
      "100%|██████████| 14/14 [00:05<00:00,  2.39it/s]\n"
     ]
    },
    {
     "name": "stdout",
     "output_type": "stream",
     "text": [
      "epoch:2 | train_mse(pic50):1.22 | val_mse(pic50):0.98 | train_dacon(ic50): 0.65 | val_dacon(ic50): 0.62 | train_pearson:0.35 | val_pearson:0.51\n",
      "New best model saved based on val_dacon -> epoch: 2, val_mse: 0.98, val_dacon: 0.62\n",
      "-----------------------------------------------------------------\n"
     ]
    },
    {
     "name": "stderr",
     "output_type": "stream",
     "text": [
      "100%|██████████| 266/266 [01:14<00:00,  3.57it/s]\n",
      "100%|██████████| 14/14 [00:06<00:00,  2.14it/s]\n"
     ]
    },
    {
     "name": "stdout",
     "output_type": "stream",
     "text": [
      "epoch:3 | train_mse(pic50):1.19 | val_mse(pic50):0.97 | train_dacon(ic50): 0.66 | val_dacon(ic50): 0.63 | train_pearson:0.38 | val_pearson:0.52\n",
      "New best model saved based on val_dacon -> epoch: 3, val_mse: 0.97, val_dacon: 0.63\n",
      "-----------------------------------------------------------------\n"
     ]
    },
    {
     "name": "stderr",
     "output_type": "stream",
     "text": [
      "100%|██████████| 266/266 [01:19<00:00,  3.33it/s]\n",
      "100%|██████████| 14/14 [00:06<00:00,  2.30it/s]\n"
     ]
    },
    {
     "name": "stdout",
     "output_type": "stream",
     "text": [
      "epoch:4 | train_mse(pic50):1.15 | val_mse(pic50):1.10 | train_dacon(ic50): 0.68 | val_dacon(ic50): 0.60 | train_pearson:0.41 | val_pearson:0.54\n",
      "-----------------------------------------------------------------\n"
     ]
    },
    {
     "name": "stderr",
     "output_type": "stream",
     "text": [
      "100%|██████████| 266/266 [01:16<00:00,  3.48it/s]\n",
      "100%|██████████| 14/14 [00:06<00:00,  2.14it/s]\n"
     ]
    },
    {
     "name": "stdout",
     "output_type": "stream",
     "text": [
      "epoch:5 | train_mse(pic50):1.13 | val_mse(pic50):0.88 | train_dacon(ic50): 0.67 | val_dacon(ic50): 0.67 | train_pearson:0.43 | val_pearson:0.57\n",
      "New best model saved based on val_dacon -> epoch: 5, val_mse: 0.88, val_dacon: 0.67\n",
      "-----------------------------------------------------------------\n"
     ]
    },
    {
     "name": "stderr",
     "output_type": "stream",
     "text": [
      "100%|██████████| 266/266 [01:18<00:00,  3.40it/s]\n",
      "100%|██████████| 14/14 [00:06<00:00,  2.17it/s]\n"
     ]
    },
    {
     "name": "stdout",
     "output_type": "stream",
     "text": [
      "epoch:6 | train_mse(pic50):1.10 | val_mse(pic50):0.86 | train_dacon(ic50): 0.67 | val_dacon(ic50): 0.66 | train_pearson:0.44 | val_pearson:0.59\n",
      "New best model saved based on val_dacon -> epoch: 6, val_mse: 0.86, val_dacon: 0.66\n",
      "-----------------------------------------------------------------\n"
     ]
    },
    {
     "name": "stderr",
     "output_type": "stream",
     "text": [
      "100%|██████████| 266/266 [01:13<00:00,  3.64it/s]\n",
      "100%|██████████| 14/14 [00:05<00:00,  2.73it/s]\n"
     ]
    },
    {
     "name": "stdout",
     "output_type": "stream",
     "text": [
      "epoch:7 | train_mse(pic50):1.07 | val_mse(pic50):0.89 | train_dacon(ic50): 0.68 | val_dacon(ic50): 0.65 | train_pearson:0.47 | val_pearson:0.59\n",
      "-----------------------------------------------------------------\n"
     ]
    },
    {
     "name": "stderr",
     "output_type": "stream",
     "text": [
      "100%|██████████| 266/266 [01:02<00:00,  4.27it/s]\n",
      "100%|██████████| 14/14 [00:03<00:00,  4.02it/s]\n"
     ]
    },
    {
     "name": "stdout",
     "output_type": "stream",
     "text": [
      "epoch:8 | train_mse(pic50):1.09 | val_mse(pic50):0.84 | train_dacon(ic50): 0.67 | val_dacon(ic50): 0.66 | train_pearson:0.46 | val_pearson:0.61\n",
      "New best model saved based on val_dacon -> epoch: 8, val_mse: 0.84, val_dacon: 0.66\n",
      "-----------------------------------------------------------------\n"
     ]
    },
    {
     "name": "stderr",
     "output_type": "stream",
     "text": [
      "100%|██████████| 266/266 [00:45<00:00,  5.82it/s]\n",
      "100%|██████████| 14/14 [00:03<00:00,  3.78it/s]\n"
     ]
    },
    {
     "name": "stdout",
     "output_type": "stream",
     "text": [
      "epoch:9 | train_mse(pic50):1.07 | val_mse(pic50):0.83 | train_dacon(ic50): 0.68 | val_dacon(ic50): 0.66 | train_pearson:0.47 | val_pearson:0.60\n",
      "New best model saved based on val_dacon -> epoch: 9, val_mse: 0.83, val_dacon: 0.66\n",
      "-----------------------------------------------------------------\n"
     ]
    },
    {
     "name": "stderr",
     "output_type": "stream",
     "text": [
      "100%|██████████| 266/266 [00:46<00:00,  5.75it/s]\n",
      "100%|██████████| 14/14 [00:03<00:00,  3.97it/s]\n"
     ]
    },
    {
     "name": "stdout",
     "output_type": "stream",
     "text": [
      "epoch:10 | train_mse(pic50):1.04 | val_mse(pic50):0.96 | train_dacon(ic50): 0.67 | val_dacon(ic50): 0.64 | train_pearson:0.49 | val_pearson:0.57\n",
      "-----------------------------------------------------------------\n"
     ]
    },
    {
     "name": "stderr",
     "output_type": "stream",
     "text": [
      "100%|██████████| 266/266 [00:46<00:00,  5.71it/s]\n",
      "100%|██████████| 14/14 [00:03<00:00,  3.97it/s]\n"
     ]
    },
    {
     "name": "stdout",
     "output_type": "stream",
     "text": [
      "epoch:11 | train_mse(pic50):1.02 | val_mse(pic50):1.88 | train_dacon(ic50): 0.67 | val_dacon(ic50): 0.53 | train_pearson:0.50 | val_pearson:0.43\n",
      "-----------------------------------------------------------------\n"
     ]
    },
    {
     "name": "stderr",
     "output_type": "stream",
     "text": [
      "100%|██████████| 266/266 [00:45<00:00,  5.88it/s]\n",
      "100%|██████████| 14/14 [00:03<00:00,  3.97it/s]\n"
     ]
    },
    {
     "name": "stdout",
     "output_type": "stream",
     "text": [
      "epoch:12 | train_mse(pic50):1.00 | val_mse(pic50):0.78 | train_dacon(ic50): 0.67 | val_dacon(ic50): 0.68 | train_pearson:0.52 | val_pearson:0.64\n",
      "New best model saved based on val_dacon -> epoch: 12, val_mse: 0.78, val_dacon: 0.68\n",
      "-----------------------------------------------------------------\n"
     ]
    },
    {
     "name": "stderr",
     "output_type": "stream",
     "text": [
      "100%|██████████| 266/266 [00:46<00:00,  5.70it/s]\n",
      "100%|██████████| 14/14 [00:03<00:00,  3.94it/s]\n"
     ]
    },
    {
     "name": "stdout",
     "output_type": "stream",
     "text": [
      "epoch:13 | train_mse(pic50):1.00 | val_mse(pic50):0.81 | train_dacon(ic50): 0.69 | val_dacon(ic50): 0.66 | train_pearson:0.52 | val_pearson:0.63\n",
      "New best model saved based on val_dacon -> epoch: 13, val_mse: 0.81, val_dacon: 0.66\n",
      "-----------------------------------------------------------------\n"
     ]
    },
    {
     "name": "stderr",
     "output_type": "stream",
     "text": [
      "100%|██████████| 266/266 [00:45<00:00,  5.79it/s]\n",
      "100%|██████████| 14/14 [00:03<00:00,  3.92it/s]\n"
     ]
    },
    {
     "name": "stdout",
     "output_type": "stream",
     "text": [
      "epoch:14 | train_mse(pic50):0.99 | val_mse(pic50):0.76 | train_dacon(ic50): 0.69 | val_dacon(ic50): 0.68 | train_pearson:0.52 | val_pearson:0.65\n",
      "New best model saved based on val_dacon -> epoch: 14, val_mse: 0.76, val_dacon: 0.68\n",
      "-----------------------------------------------------------------\n"
     ]
    },
    {
     "name": "stderr",
     "output_type": "stream",
     "text": [
      "100%|██████████| 266/266 [00:46<00:00,  5.76it/s]\n",
      "100%|██████████| 14/14 [00:03<00:00,  4.12it/s]\n"
     ]
    },
    {
     "name": "stdout",
     "output_type": "stream",
     "text": [
      "epoch:15 | train_mse(pic50):0.96 | val_mse(pic50):0.78 | train_dacon(ic50): 0.69 | val_dacon(ic50): 0.69 | train_pearson:0.54 | val_pearson:0.64\n",
      "New best model saved based on val_dacon -> epoch: 15, val_mse: 0.78, val_dacon: 0.69\n",
      "-----------------------------------------------------------------\n"
     ]
    },
    {
     "name": "stderr",
     "output_type": "stream",
     "text": [
      "100%|██████████| 266/266 [00:53<00:00,  5.00it/s]\n",
      "100%|██████████| 14/14 [00:04<00:00,  2.98it/s]\n"
     ]
    },
    {
     "name": "stdout",
     "output_type": "stream",
     "text": [
      "epoch:16 | train_mse(pic50):0.96 | val_mse(pic50):0.77 | train_dacon(ic50): 0.68 | val_dacon(ic50): 0.67 | train_pearson:0.54 | val_pearson:0.65\n",
      "New best model saved based on val_dacon -> epoch: 16, val_mse: 0.77, val_dacon: 0.67\n",
      "-----------------------------------------------------------------\n"
     ]
    },
    {
     "name": "stderr",
     "output_type": "stream",
     "text": [
      "100%|██████████| 266/266 [00:59<00:00,  4.45it/s]\n",
      "100%|██████████| 14/14 [00:04<00:00,  2.91it/s]\n"
     ]
    },
    {
     "name": "stdout",
     "output_type": "stream",
     "text": [
      "epoch:17 | train_mse(pic50):0.97 | val_mse(pic50):0.80 | train_dacon(ic50): 0.68 | val_dacon(ic50): 0.67 | train_pearson:0.53 | val_pearson:0.65\n",
      "-----------------------------------------------------------------\n"
     ]
    },
    {
     "name": "stderr",
     "output_type": "stream",
     "text": [
      "100%|██████████| 266/266 [00:49<00:00,  5.39it/s]\n",
      "100%|██████████| 14/14 [00:03<00:00,  3.50it/s]\n"
     ]
    },
    {
     "name": "stdout",
     "output_type": "stream",
     "text": [
      "epoch:18 | train_mse(pic50):0.96 | val_mse(pic50):0.78 | train_dacon(ic50): 0.69 | val_dacon(ic50): 0.67 | train_pearson:0.54 | val_pearson:0.66\n",
      "-----------------------------------------------------------------\n"
     ]
    },
    {
     "name": "stderr",
     "output_type": "stream",
     "text": [
      "100%|██████████| 266/266 [00:56<00:00,  4.72it/s]\n",
      "100%|██████████| 14/14 [00:03<00:00,  4.10it/s]\n"
     ]
    },
    {
     "name": "stdout",
     "output_type": "stream",
     "text": [
      "epoch:19 | train_mse(pic50):0.98 | val_mse(pic50):0.77 | train_dacon(ic50): 0.69 | val_dacon(ic50): 0.68 | train_pearson:0.53 | val_pearson:0.65\n",
      "-----------------------------------------------------------------\n"
     ]
    },
    {
     "name": "stderr",
     "output_type": "stream",
     "text": [
      "100%|██████████| 266/266 [00:59<00:00,  4.45it/s]\n",
      "100%|██████████| 14/14 [00:04<00:00,  2.94it/s]\n"
     ]
    },
    {
     "name": "stdout",
     "output_type": "stream",
     "text": [
      "epoch:20 | train_mse(pic50):0.97 | val_mse(pic50):0.75 | train_dacon(ic50): 0.69 | val_dacon(ic50): 0.68 | train_pearson:0.54 | val_pearson:0.66\n",
      "New best model saved based on val_dacon -> epoch: 20, val_mse: 0.75, val_dacon: 0.68\n",
      "-----------------------------------------------------------------\n"
     ]
    },
    {
     "name": "stderr",
     "output_type": "stream",
     "text": [
      "100%|██████████| 266/266 [01:00<00:00,  4.36it/s]\n",
      "100%|██████████| 14/14 [00:03<00:00,  3.96it/s]\n"
     ]
    },
    {
     "name": "stdout",
     "output_type": "stream",
     "text": [
      "epoch:21 | train_mse(pic50):0.98 | val_mse(pic50):0.77 | train_dacon(ic50): 0.68 | val_dacon(ic50): 0.67 | train_pearson:0.53 | val_pearson:0.65\n",
      "-----------------------------------------------------------------\n"
     ]
    },
    {
     "name": "stderr",
     "output_type": "stream",
     "text": [
      "100%|██████████| 266/266 [00:53<00:00,  4.99it/s]\n",
      "100%|██████████| 14/14 [00:04<00:00,  3.00it/s]\n"
     ]
    },
    {
     "name": "stdout",
     "output_type": "stream",
     "text": [
      "epoch:22 | train_mse(pic50):0.97 | val_mse(pic50):0.76 | train_dacon(ic50): 0.69 | val_dacon(ic50): 0.67 | train_pearson:0.53 | val_pearson:0.66\n",
      "-----------------------------------------------------------------\n"
     ]
    },
    {
     "name": "stderr",
     "output_type": "stream",
     "text": [
      "100%|██████████| 266/266 [00:54<00:00,  4.88it/s]\n",
      "100%|██████████| 14/14 [00:04<00:00,  2.91it/s]\n"
     ]
    },
    {
     "name": "stdout",
     "output_type": "stream",
     "text": [
      "epoch:23 | train_mse(pic50):0.95 | val_mse(pic50):0.74 | train_dacon(ic50): 0.69 | val_dacon(ic50): 0.68 | train_pearson:0.54 | val_pearson:0.66\n",
      "New best model saved based on val_dacon -> epoch: 23, val_mse: 0.74, val_dacon: 0.68\n",
      "-----------------------------------------------------------------\n"
     ]
    },
    {
     "name": "stderr",
     "output_type": "stream",
     "text": [
      "100%|██████████| 266/266 [00:51<00:00,  5.19it/s]\n",
      "100%|██████████| 14/14 [00:03<00:00,  4.14it/s]\n"
     ]
    },
    {
     "name": "stdout",
     "output_type": "stream",
     "text": [
      "epoch:24 | train_mse(pic50):0.96 | val_mse(pic50):0.73 | train_dacon(ic50): 0.69 | val_dacon(ic50): 0.68 | train_pearson:0.54 | val_pearson:0.67\n",
      "New best model saved based on val_dacon -> epoch: 24, val_mse: 0.73, val_dacon: 0.68\n",
      "-----------------------------------------------------------------\n"
     ]
    },
    {
     "name": "stderr",
     "output_type": "stream",
     "text": [
      "100%|██████████| 266/266 [00:46<00:00,  5.67it/s]\n",
      "100%|██████████| 14/14 [00:03<00:00,  3.90it/s]\n"
     ]
    },
    {
     "name": "stdout",
     "output_type": "stream",
     "text": [
      "epoch:25 | train_mse(pic50):0.98 | val_mse(pic50):0.73 | train_dacon(ic50): 0.69 | val_dacon(ic50): 0.68 | train_pearson:0.53 | val_pearson:0.67\n",
      "-----------------------------------------------------------------\n"
     ]
    },
    {
     "name": "stderr",
     "output_type": "stream",
     "text": [
      "100%|██████████| 266/266 [01:02<00:00,  4.26it/s]\n",
      "100%|██████████| 14/14 [00:04<00:00,  2.92it/s]\n"
     ]
    },
    {
     "name": "stdout",
     "output_type": "stream",
     "text": [
      "epoch:26 | train_mse(pic50):0.97 | val_mse(pic50):0.74 | train_dacon(ic50): 0.68 | val_dacon(ic50): 0.67 | train_pearson:0.54 | val_pearson:0.66\n",
      "-----------------------------------------------------------------\n"
     ]
    },
    {
     "name": "stderr",
     "output_type": "stream",
     "text": [
      "100%|██████████| 266/266 [00:47<00:00,  5.64it/s]\n",
      "100%|██████████| 14/14 [00:04<00:00,  3.41it/s]\n"
     ]
    },
    {
     "name": "stdout",
     "output_type": "stream",
     "text": [
      "epoch:27 | train_mse(pic50):0.96 | val_mse(pic50):0.73 | train_dacon(ic50): 0.69 | val_dacon(ic50): 0.67 | train_pearson:0.54 | val_pearson:0.67\n",
      "-----------------------------------------------------------------\n"
     ]
    },
    {
     "name": "stderr",
     "output_type": "stream",
     "text": [
      "100%|██████████| 266/266 [00:45<00:00,  5.87it/s]\n",
      "100%|██████████| 14/14 [00:03<00:00,  3.93it/s]\n"
     ]
    },
    {
     "name": "stdout",
     "output_type": "stream",
     "text": [
      "epoch:28 | train_mse(pic50):0.97 | val_mse(pic50):0.73 | train_dacon(ic50): 0.69 | val_dacon(ic50): 0.67 | train_pearson:0.53 | val_pearson:0.67\n",
      "-----------------------------------------------------------------\n"
     ]
    },
    {
     "name": "stderr",
     "output_type": "stream",
     "text": [
      "100%|██████████| 266/266 [00:46<00:00,  5.67it/s]\n",
      "100%|██████████| 14/14 [00:03<00:00,  4.07it/s]\n"
     ]
    },
    {
     "name": "stdout",
     "output_type": "stream",
     "text": [
      "epoch:29 | train_mse(pic50):0.95 | val_mse(pic50):0.74 | train_dacon(ic50): 0.68 | val_dacon(ic50): 0.67 | train_pearson:0.55 | val_pearson:0.66\n",
      "-----------------------------------------------------------------\n"
     ]
    },
    {
     "name": "stderr",
     "output_type": "stream",
     "text": [
      "100%|██████████| 266/266 [00:45<00:00,  5.83it/s]\n",
      "100%|██████████| 14/14 [00:03<00:00,  3.91it/s]\n"
     ]
    },
    {
     "name": "stdout",
     "output_type": "stream",
     "text": [
      "epoch:30 | train_mse(pic50):0.96 | val_mse(pic50):0.75 | train_dacon(ic50): 0.68 | val_dacon(ic50): 0.67 | train_pearson:0.54 | val_pearson:0.67\n",
      "-----------------------------------------------------------------\n"
     ]
    },
    {
     "name": "stderr",
     "output_type": "stream",
     "text": [
      "100%|██████████| 266/266 [00:46<00:00,  5.72it/s]\n",
      "100%|██████████| 14/14 [00:03<00:00,  3.96it/s]\n"
     ]
    },
    {
     "name": "stdout",
     "output_type": "stream",
     "text": [
      "epoch:31 | train_mse(pic50):0.97 | val_mse(pic50):0.76 | train_dacon(ic50): 0.69 | val_dacon(ic50): 0.68 | train_pearson:0.54 | val_pearson:0.66\n",
      "-----------------------------------------------------------------\n"
     ]
    },
    {
     "name": "stderr",
     "output_type": "stream",
     "text": [
      "100%|██████████| 266/266 [00:46<00:00,  5.72it/s]\n",
      "100%|██████████| 14/14 [00:03<00:00,  3.94it/s]\n"
     ]
    },
    {
     "name": "stdout",
     "output_type": "stream",
     "text": [
      "epoch:32 | train_mse(pic50):0.96 | val_mse(pic50):0.74 | train_dacon(ic50): 0.69 | val_dacon(ic50): 0.68 | train_pearson:0.54 | val_pearson:0.66\n",
      "-----------------------------------------------------------------\n"
     ]
    },
    {
     "name": "stderr",
     "output_type": "stream",
     "text": [
      "100%|██████████| 266/266 [00:45<00:00,  5.80it/s]\n",
      "100%|██████████| 14/14 [00:03<00:00,  3.98it/s]\n"
     ]
    },
    {
     "name": "stdout",
     "output_type": "stream",
     "text": [
      "epoch:33 | train_mse(pic50):0.95 | val_mse(pic50):0.75 | train_dacon(ic50): 0.69 | val_dacon(ic50): 0.67 | train_pearson:0.55 | val_pearson:0.67\n",
      "-----------------------------------------------------------------\n"
     ]
    },
    {
     "name": "stderr",
     "output_type": "stream",
     "text": [
      "100%|██████████| 266/266 [00:45<00:00,  5.79it/s]\n",
      "100%|██████████| 14/14 [00:03<00:00,  4.09it/s]\n"
     ]
    },
    {
     "name": "stdout",
     "output_type": "stream",
     "text": [
      "epoch:34 | train_mse(pic50):0.94 | val_mse(pic50):0.75 | train_dacon(ic50): 0.68 | val_dacon(ic50): 0.68 | train_pearson:0.55 | val_pearson:0.67\n",
      "-----------------------------------------------------------------\n"
     ]
    },
    {
     "name": "stderr",
     "output_type": "stream",
     "text": [
      "100%|██████████| 266/266 [00:46<00:00,  5.77it/s]\n",
      "100%|██████████| 14/14 [00:03<00:00,  3.98it/s]\n"
     ]
    },
    {
     "name": "stdout",
     "output_type": "stream",
     "text": [
      "epoch:35 | train_mse(pic50):0.96 | val_mse(pic50):0.74 | train_dacon(ic50): 0.69 | val_dacon(ic50): 0.68 | train_pearson:0.54 | val_pearson:0.67\n",
      "-----------------------------------------------------------------\n"
     ]
    },
    {
     "name": "stderr",
     "output_type": "stream",
     "text": [
      "100%|██████████| 266/266 [00:45<00:00,  5.80it/s]\n",
      "100%|██████████| 14/14 [00:03<00:00,  4.05it/s]\n"
     ]
    },
    {
     "name": "stdout",
     "output_type": "stream",
     "text": [
      "epoch:36 | train_mse(pic50):0.97 | val_mse(pic50):0.74 | train_dacon(ic50): 0.69 | val_dacon(ic50): 0.67 | train_pearson:0.54 | val_pearson:0.66\n",
      "-----------------------------------------------------------------\n"
     ]
    },
    {
     "name": "stderr",
     "output_type": "stream",
     "text": [
      "100%|██████████| 266/266 [00:47<00:00,  5.65it/s]\n",
      "100%|██████████| 14/14 [00:03<00:00,  3.59it/s]\n"
     ]
    },
    {
     "name": "stdout",
     "output_type": "stream",
     "text": [
      "epoch:37 | train_mse(pic50):0.97 | val_mse(pic50):0.74 | train_dacon(ic50): 0.69 | val_dacon(ic50): 0.68 | train_pearson:0.54 | val_pearson:0.66\n",
      "-----------------------------------------------------------------\n"
     ]
    },
    {
     "name": "stderr",
     "output_type": "stream",
     "text": [
      "100%|██████████| 266/266 [00:45<00:00,  5.85it/s]\n",
      "100%|██████████| 14/14 [00:03<00:00,  4.14it/s]\n"
     ]
    },
    {
     "name": "stdout",
     "output_type": "stream",
     "text": [
      "epoch:38 | train_mse(pic50):0.97 | val_mse(pic50):0.75 | train_dacon(ic50): 0.69 | val_dacon(ic50): 0.67 | train_pearson:0.54 | val_pearson:0.66\n",
      "-----------------------------------------------------------------\n"
     ]
    },
    {
     "name": "stderr",
     "output_type": "stream",
     "text": [
      "100%|██████████| 266/266 [00:46<00:00,  5.73it/s]\n",
      "100%|██████████| 14/14 [00:03<00:00,  4.00it/s]\n"
     ]
    },
    {
     "name": "stdout",
     "output_type": "stream",
     "text": [
      "epoch:39 | train_mse(pic50):0.96 | val_mse(pic50):0.75 | train_dacon(ic50): 0.69 | val_dacon(ic50): 0.66 | train_pearson:0.54 | val_pearson:0.66\n",
      "Early stopped at epoch 39 !\n"
     ]
    }
   ],
   "source": [
    "# MAIN CODE\n",
    "device = torch.device(\"cuda:0\" if torch.cuda.is_available() else \"cpu\")\n",
    "model = HawonNet(hawon_args)\n",
    "checkpoint = torch.load('/home/tech/Hawon/Dacon/code/MAIN/trial5_attentiveFP_ToyGNN/ToyGNN/ckpt/save/pretrained_AttentiveFP_resnodeFalse.pth')\n",
    "model.load_state_dict(checkpoint)\n",
    "model.to(device)\n",
    "criterion = nn.MSELoss()\n",
    "optim = torch.optim.Adam(model.parameters(), lr=hawon_args.lr)\n",
    "\n",
    "# 스케쥴러 / 얼리스탑 정의\n",
    "scheduler = ReduceLROnPlateau(optim, mode='max', factor=0.1, patience=5)\n",
    "patience = 15\n",
    "min_delta = 0.001\n",
    "best_val_dacon_for_early = -float('inf')\n",
    "\n",
    "# best model save\n",
    "best_val_dacon = -1\n",
    "best_val_mse = np.Inf\n",
    "best_model_path = './ckpt/best_model.pth'\n",
    "\n",
    "# for speed\n",
    "scaler = torch.cuda.amp.GradScaler()\n",
    "\n",
    "train_dataset, train_dataloader = get_dataset_dataloader(keys = tr_keys, \n",
    "                                                         data_dir = hawon_args.total_data_dir, \n",
    "                                                         id_to_y = id_to_y, \n",
    "                                                         batch_size = hawon_args.batch_size, \n",
    "                                                         num_workers = hawon_args.num_workers, \n",
    "                                                         residue_node = hawon_args.use_residue_node,\n",
    "                                                         train = True,\n",
    "                                                         inference=False) # train -> shuffle 여부\n",
    "\n",
    "val_dataset, val_dataloader = get_dataset_dataloader(keys = val_keys, \n",
    "                                                     data_dir = hawon_args.total_data_dir, \n",
    "                                                     id_to_y = id_to_y, \n",
    "                                                     batch_size = hawon_args.batch_size, \n",
    "                                                     num_workers = hawon_args.num_workers, \n",
    "                                                     residue_node = hawon_args.use_residue_node,\n",
    "                                                     train = False,\n",
    "                                                     inference=False)\n",
    "\n",
    "print(f'Data load done: train {len(train_dataset)}, val {len(val_dataset)}')\n",
    "\n",
    "tr_mse, vl_mse, tr_pc, vl_pc, best_result = [], [], [], [], {}\n",
    "tr_dacon_score, vl_dacon_score = [], []\n",
    "\n",
    "# 학습 루프\n",
    "\n",
    "print(f'''OPTIONS\n",
    "- epoch: {hawon_args.num_epochs}\n",
    "- batch_size: {hawon_args.batch_size}\n",
    "- num_workers: {hawon_args.num_workers}\n",
    "- lr: {hawon_args.lr}\n",
    "- gnn_type : {hawon_args.gnn_layer_type}\n",
    "- gnn_n_layer: {hawon_args.gnn_n_layer}\n",
    "- gnn_h_dim : {hawon_args.gnn_hidden_dim}\n",
    "- residue_node : {hawon_args.use_residue_node}\n",
    "=================================\n",
    "''')\n",
    "\n",
    "for epoch in range(hawon_args.num_epochs):\n",
    "    # train\n",
    "    model.train()\n",
    "    train_loss = 0.0\n",
    "    train_labels = torch.tensor([])\n",
    "    train_predicts = torch.tensor([])\n",
    "    for batch_idx, sample in enumerate(tqdm(train_dataloader)):\n",
    "        # put sample on device\n",
    "        for key, value in sample.items():\n",
    "            if isinstance(value, torch.Tensor):\n",
    "                value = value.to(device)\n",
    "                sample[key] = value\n",
    "        optim.zero_grad()\n",
    "        train_pred = model(sample).squeeze()\n",
    "        loss = criterion(train_pred, sample['affinity'])\n",
    "        loss.backward()\n",
    "        optim.step()\n",
    "        train_loss += loss.item() * sample['affinity'].size(0)\n",
    "        train_labels = torch.concat([train_labels, sample['affinity'].cpu()])\n",
    "        train_predicts = torch.concat([train_predicts, train_pred.cpu()])\n",
    "        torch.cuda.empty_cache()\n",
    "\n",
    "    # validation\n",
    "    model.eval()\n",
    "    val_loss = 0.0\n",
    "    val_labels = torch.tensor([])\n",
    "    val_predicts = torch.tensor([])\n",
    "    with torch.no_grad():\n",
    "        for batch_idx, sample in enumerate(tqdm(val_dataloader)):\n",
    "            # put sample on device\n",
    "            for key, value in sample.items():\n",
    "                if isinstance(value, torch.Tensor):\n",
    "                    value = value.to(device)\n",
    "                    sample[key] = value\n",
    "            val_pred = model(sample).squeeze()\n",
    "            loss = criterion(val_pred, sample['affinity'])\n",
    "            val_loss += loss.item() * sample['affinity'].size(0)\n",
    "            val_labels = torch.cat([val_labels, sample['affinity'].cpu()])\n",
    "            val_predicts = torch.cat([val_predicts, val_pred.cpu()])\n",
    "\n",
    "    # MSE/PC 계산\n",
    "    train_labels = train_labels.detach().numpy()\n",
    "    train_predicts = train_predicts.detach().numpy()\n",
    "    val_labels = val_labels.detach().numpy()\n",
    "    val_predicts = val_predicts.detach().numpy()\n",
    "    \n",
    "    train_mse = train_loss / len(train_dataset)\n",
    "    val_mse = val_loss / len(val_dataset)\n",
    "    train_pearson = pearson_correlation(train_labels, train_predicts).item()\n",
    "    val_pearson = pearson_correlation(val_labels, val_predicts).item()\n",
    "    train_dacon = evaluate_scores(pIC50_to_IC50(train_labels), pIC50_to_IC50(train_predicts))[0].item()\n",
    "    val_dacon = evaluate_scores(pIC50_to_IC50(val_labels), pIC50_to_IC50(val_predicts))[0].item()\n",
    "    \n",
    "    # scheduler step\n",
    "    scheduler.step(val_dacon)\n",
    "    \n",
    "    # 로깅\n",
    "    print(f'epoch:{epoch+1} | train_mse(pic50):{train_mse:.2f} | val_mse(pic50):{val_mse:.2f} | train_dacon(ic50): {train_dacon:.2f} | val_dacon(ic50): {val_dacon:.2f} | train_pearson:{train_pearson:.2f} | val_pearson:{val_pearson:.2f}')\n",
    "    tr_mse.append(train_mse)\n",
    "    vl_mse.append(val_mse)\n",
    "    tr_pc.append(train_pearson)\n",
    "    vl_pc.append(val_pearson)\n",
    "    tr_dacon_score.append(train_dacon)\n",
    "    vl_dacon_score.append(val_dacon)\n",
    "    \n",
    "    # 모델 저장 & early stop\n",
    "    if hawon_args.save_model:\n",
    "        if val_dacon >= best_val_dacon + min_delta:\n",
    "            best_val_dacon = val_dacon\n",
    "            torch.save(model.state_dict(), best_model_path)\n",
    "            print(f'New best model saved based on val_dacon -> epoch: {epoch+1}, val_mse: {val_mse:.2f}, val_dacon: {best_val_dacon:.2f}')\n",
    "            best_result['best_val_mse'] = best_val_mse\n",
    "            best_result['best_val_dacon'] = best_val_dacon\n",
    "            best_result['epoch'] = epoch+1\n",
    "            counter = 0\n",
    "        elif val_mse <= best_val_mse - min_delta:\n",
    "            best_val_mse = val_mse\n",
    "            torch.save(model.state_dict(), best_model_path)\n",
    "            print(f'New best model saved based on val_mse -> epoch: {epoch+1}, val_mse: {best_val_mse:.2f}, val_dacon: {val_dacon:.2f}')\n",
    "            best_result['best_val_mse'] = best_val_mse\n",
    "            best_result['best_val_dacon'] = best_val_dacon\n",
    "            best_result['epoch'] = epoch+1\n",
    "            counter = 0\n",
    "        else:\n",
    "            counter += 1\n",
    "            if counter >= patience:\n",
    "                print(f'Early stopped at epoch {epoch + 1} !')\n",
    "                break\n",
    "    print(f'-----------------------------------------------------------------')"
   ]
  },
  {
   "cell_type": "code",
   "execution_count": 11,
   "metadata": {},
   "outputs": [],
   "source": [
    "# 로깅\n",
    "with open('train_logs/tr_mse.pkl', 'wb') as fp:\n",
    "    pickle.dump(tr_mse, fp)\n",
    "with open('train_logs/vl_mse.pkl', 'wb') as fp:\n",
    "    pickle.dump(vl_mse, fp)\n",
    "with open('train_logs/tr_pc.pkl', 'wb') as fp:\n",
    "    pickle.dump(tr_pc, fp)\n",
    "with open('train_logs/vl_pc.pkl', 'wb') as fp:\n",
    "    pickle.dump(vl_pc, fp)\n",
    "with open('train_logs/best_result.pkl', 'wb') as fp:\n",
    "    pickle.dump(best_result, fp)"
   ]
  },
  {
   "cell_type": "code",
   "execution_count": 12,
   "metadata": {},
   "outputs": [
    {
     "data": {
      "image/png": "[encoded data removed]",
      "text/plain": [
       "<Figure size 600x300 with 1 Axes>"
      ]
     },
     "metadata": {},
     "output_type": "display_data"
    },
    {
     "data": {
      "image/png": "[encoded data removed]",
      "text/plain": [
       "<Figure size 600x300 with 1 Axes>"
      ]
     },
     "metadata": {},
     "output_type": "display_data"
    }
   ],
   "source": [
    "# 시각화\n",
    "import matplotlib.pyplot as plt\n",
    "import seaborn as sns\n",
    "\n",
    "epochs = range(1, len(tr_mse)+1)\n",
    "\n",
    "df = pd.DataFrame({\n",
    "    'Epoch': list(epochs) * 2,\n",
    "    'MSE': list(tr_mse) + list(vl_mse),\n",
    "    'Type': ['Train'] * len(epochs) + ['Validation'] * len(epochs)\n",
    "})\n",
    "\n",
    "# seaborn 설정\n",
    "sns.set_style(\"darkgrid\")\n",
    "plt.figure(figsize=(6, 3))\n",
    "\n",
    "# 라인 플롯 그리기\n",
    "sns.lineplot(x='Epoch', y='MSE', hue='Type', data=df)\n",
    "\n",
    "# 그래프 제목과 레이블 설정\n",
    "plt.title('Training and Validation MSE over Epochs', fontsize=16)\n",
    "plt.xlabel('Epoch', fontsize=12)\n",
    "plt.ylabel('Mean Squared Error', fontsize=12)\n",
    "plt.ylim(0,10)\n",
    "# 범례 위치 조정\n",
    "plt.legend(title='', loc='upper right', fontsize=10)\n",
    "\n",
    "# 그래프 표시\n",
    "plt.show()\n",
    "\n",
    "##########################\n",
    "\n",
    "df = pd.DataFrame({\n",
    "    'Epoch': list(epochs) * 2,\n",
    "    'Pearson': list(tr_pc) + list(vl_pc),\n",
    "    'Type': ['Train'] * len(epochs) + ['Validation'] * len(epochs)\n",
    "})\n",
    "\n",
    "# seaborn 설정\n",
    "sns.set_style(\"darkgrid\")\n",
    "plt.figure(figsize=(6, 3))\n",
    "\n",
    "# 라인 플롯 그리기\n",
    "sns.lineplot(x='Epoch', y='Pearson', hue='Type', data=df)\n",
    "\n",
    "# 그래프 제목과 레이블 설정\n",
    "plt.title('Training and Validation PC over Epochs', fontsize=16)\n",
    "plt.xlabel('Epoch', fontsize=12)\n",
    "plt.ylabel('Pearson correlation', fontsize=12)\n",
    "\n",
    "# 범례 위치 조정\n",
    "plt.legend(title='', loc='lower right', fontsize=10)\n",
    "\n",
    "# 그래프 표시\n",
    "plt.show()"
   ]
  },
  {
   "cell_type": "code",
   "execution_count": 13,
   "metadata": {},
   "outputs": [
    {
     "name": "stdout",
     "output_type": "stream",
     "text": [
      "tr_mse 최소 : 0.85 at epoch 53\n",
      "vl_mse 최소 : 0.45 at epoch 48\n",
      "tr_pc 최대 : 0.66 at epoch 59\n",
      "vl_pc 최대 : 0.81 at epoch 49\n",
      "best_epoch: {'best_val_mse': 0.45438535428153853, 'best_val_dacon': 0.7559630144178198, 'epoch': 49}\n"
     ]
    }
   ],
   "source": [
    "# get best score\n",
    "print(f'tr_mse 최소 : {min(tr_mse):.2f} at epoch {tr_mse.index(min(tr_mse))}')\n",
    "print(f'vl_mse 최소 : {min(vl_mse):.2f} at epoch {vl_mse.index(min(vl_mse))}')\n",
    "print(f'tr_pc 최대 : {max(tr_pc):.2f} at epoch {tr_pc.index(max(tr_pc))}')\n",
    "print(f'vl_pc 최대 : {max(vl_pc):.2f} at epoch {vl_pc.index(max(vl_pc))}')\n",
    "print(f'best_epoch: {best_result}')"
   ]
  },
  {
   "cell_type": "code",
   "execution_count": null,
   "metadata": {},
   "outputs": [],
   "source": []
  }
 ],
 "metadata": {
  "kernelspec": {
   "display_name": "docking_tools",
   "language": "python",
   "name": "python3"
  },
  "language_info": {
   "codemirror_mode": {
    "name": "ipython",
    "version": 3
   },
   "file_extension": ".py",
   "mimetype": "text/x-python",
   "name": "python",
   "nbconvert_exporter": "python",
   "pygments_lexer": "ipython3",
   "version": "3.9.19"
  }
 },
 "nbformat": 4,
 "nbformat_minor": 2
}
